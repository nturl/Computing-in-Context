{
 "cells": [
  {
   "cell_type": "markdown",
   "metadata": {},
   "source": [
    "# COMS W1002: Computing in Context\n",
    "---\n",
    "\n",
    "## Lecture 20: More on Parameter types in Python\n",
    "__Reading:__ [Python Data Structures](https://docs.python.org/3/tutorial/datastructures.html) and [Online Glossary](https://docs.python.org/3.5/glossary.html#term-parameter)"
   ]
  },
  {
   "cell_type": "markdown",
   "metadata": {},
   "source": [
    "### List Comprehensions\n",
    "Before continuing (and finally finishing) our discussion on parameter types in Python I want to formally discuss ***list comprehensions***. List comprehensions are a powerful way of thinking about and creating lists and other sequences in Python. Here's an example:"
   ]
  },
  {
   "cell_type": "code",
   "execution_count": 1,
   "metadata": {},
   "outputs": [
    {
     "data": {
      "text/plain": [
       "[4, 36, 4]"
      ]
     },
     "execution_count": 1,
     "metadata": {},
     "output_type": "execute_result"
    }
   ],
   "source": [
    "l=[2,3,1,6,2,9]\n",
    "new_list=[i**2 for i in l if i%2==0]\n",
    "new_list"
   ]
  },
  {
   "cell_type": "markdown",
   "metadata": {},
   "source": [
    "more generally we can construct lists using the following fomat:\n",
    "\n",
    "`new_list=[f(item) for item in old_list if (condition on item)]`\n"
   ]
  },
  {
   "cell_type": "code",
   "execution_count": 2,
   "metadata": {},
   "outputs": [
    {
     "data": {
      "text/plain": [
       "['a', 'i', 'e', 'o', 'u']"
      ]
     },
     "execution_count": 2,
     "metadata": {},
     "output_type": "execute_result"
    }
   ],
   "source": [
    "s='What a wonderful world it is that we live in!'\n",
    "vowels=[v for v in s if v in 'aeiou'] # make a list of vowels in the string s\n",
    "vowels=list(set(vowels)) # eliminate repeats\n",
    "vowels"
   ]
  },
  {
   "cell_type": "markdown",
   "metadata": {},
   "source": [
    "This same technique may be used to create other sequences in Python including Dictionaries and Sets. You can read about that [here](https://docs.python.org/3/tutorial/datastructures.html).  \n",
    "\n",
    "And now back to our regularly scheduled program..."
   ]
  },
  {
   "cell_type": "markdown",
   "metadata": {},
   "source": [
    "### Recall our previous discussion:  \n",
    "**Positional-or-Keyword Parameters:**  \n",
    "Consider the function definition"
   ]
  },
  {
   "cell_type": "code",
   "execution_count": 3,
   "metadata": {
    "scrolled": true
   },
   "outputs": [
    {
     "name": "stdout",
     "output_type": "stream",
     "text": [
      "a is:  2\n",
      "b is:  3\n"
     ]
    }
   ],
   "source": [
    "def f(a,b):\n",
    "    print('a is: ',a)\n",
    "    print('b is: ',b)\n",
    "    return\n",
    "\n",
    "f(2,3)"
   ]
  },
  {
   "cell_type": "markdown",
   "metadata": {},
   "source": [
    "As expected the first parameter was passed into the parameter `a` and the second parameter into `b`. Now observe what happens if we invoke the function in this way:"
   ]
  },
  {
   "cell_type": "code",
   "execution_count": 4,
   "metadata": {},
   "outputs": [
    {
     "name": "stdout",
     "output_type": "stream",
     "text": [
      "a is:  0\n",
      "b is:  10\n"
     ]
    }
   ],
   "source": [
    "f(b=10,a=0)"
   ]
  },
  {
   "cell_type": "markdown",
   "metadata": {},
   "source": [
    "__What just happened?__ This time we specified the parameters by keyword, not by position. Of course we needed to know what the formal parameter names were but if we do, as long as we specifiy them by name, we don't have to worry about order. The only rule is that positional arguments come before keyword arguments in the function call. So for example this is okay:"
   ]
  },
  {
   "cell_type": "code",
   "execution_count": 5,
   "metadata": {},
   "outputs": [
    {
     "name": "stdout",
     "output_type": "stream",
     "text": [
      "a is:  6\n",
      "b is:  12\n"
     ]
    }
   ],
   "source": [
    "f(6,b=12)"
   ]
  },
  {
   "cell_type": "markdown",
   "metadata": {},
   "source": [
    "but this is not okay:"
   ]
  },
  {
   "cell_type": "code",
   "execution_count": 6,
   "metadata": {},
   "outputs": [
    {
     "ename": "SyntaxError",
     "evalue": "positional argument follows keyword argument (<ipython-input-6-a7f8a95efa30>, line 1)",
     "output_type": "error",
     "traceback": [
      "\u001b[0;36m  File \u001b[0;32m\"<ipython-input-6-a7f8a95efa30>\"\u001b[0;36m, line \u001b[0;32m1\u001b[0m\n\u001b[0;31m    f(b=12,6)\u001b[0m\n\u001b[0m          ^\u001b[0m\n\u001b[0;31mSyntaxError\u001b[0m\u001b[0;31m:\u001b[0m positional argument follows keyword argument\n"
     ]
    }
   ],
   "source": [
    "f(b=12,6)"
   ]
  },
  {
   "cell_type": "markdown",
   "metadata": {},
   "source": [
    "What about `f(6,a=12)`? Try it! You'll see that this doesn't work because the argument 6 is passed into the parameter `a` and then we try to reassign it to 12.  \n",
    "\n",
    "Here's another useful quality of keyword parameters:"
   ]
  },
  {
   "cell_type": "code",
   "execution_count": null,
   "metadata": {
    "collapsed": true
   },
   "outputs": [],
   "source": [
    "def g(a,b=12,c=0):\n",
    "    print('a is: ', a)\n",
    "    print('b is: ', b)\n",
    "    print('c is: ', c)\n",
    "    return\n",
    "\n",
    "g(6,20)"
   ]
  },
  {
   "cell_type": "markdown",
   "metadata": {},
   "source": [
    "__What just happened?__: We can provide *default* values to parameters in a function defintion. If the caller specifies a value either positionally or via keyword it will override the default value (like `b` in the example above). If the caller does not provide an argument for parameter with a default (like `c` above) then the default value will be used.\n",
    "\n",
    "__Summary so far:__ The parameters we've seen so far are called ***positional-or-keyword*** parameters. This is because they may be used as either depending on the structure of the function call. In general there are five catagories of function parameters. We'll learn about all of them today."
   ]
  },
  {
   "cell_type": "markdown",
   "metadata": {},
   "source": [
    "**Variable-Length-Postional Parameter:**\n",
    "We've seen these before. In a function defintion these must come after the *positional or keyword* parameters. So for example:"
   ]
  },
  {
   "cell_type": "code",
   "execution_count": null,
   "metadata": {
    "collapsed": true
   },
   "outputs": [],
   "source": [
    "def f(a,b=0,*args):\n",
    "    print('a is: ',a)\n",
    "    print('b is: ',b)\n",
    "    print('args is: ',args)\n",
    "    return\n",
    "\n",
    "f(3,2,4,5,6)"
   ]
  },
  {
   "cell_type": "markdown",
   "metadata": {},
   "source": [
    "The `*` in front of the parameter `args` makes it a ***variable-length-positional parameter***. This means it absorbs any extra postional arguments and places them into a `tuple` called `args`. Specifying a parameter like this in a function definition gives the function caller the option of providing as many postional arguments as they want without breaking the function."
   ]
  },
  {
   "cell_type": "markdown",
   "metadata": {},
   "source": [
    "### New stuff: Keyword-Only Parameters:  \n",
    "We can specifiy additional keyword parameters after the ***variable-length-positional parameter*** in a function definition. These parameters may only be specified by keyword, never positionally. For this reason we call these ***keyword-only parameters***. Like this:"
   ]
  },
  {
   "cell_type": "code",
   "execution_count": null,
   "metadata": {
    "collapsed": true
   },
   "outputs": [],
   "source": [
    "def g(a,b=0,*args,c=1,d=2):\n",
    "    print('a is: ',a)\n",
    "    print('b is: ',b)\n",
    "    print('args is: ',args)\n",
    "    print('c is: ',c)\n",
    "    print('d is: ',d)\n",
    "    return\n",
    "\n",
    "g(1,2,3,4,5,d=100)"
   ]
  },
  {
   "cell_type": "markdown",
   "metadata": {},
   "source": [
    "Play around witht he IPython interpreter try different combinations to see what works. The main rule to remember is that if the parameter comes *after* the variable length positional paramenter then it is keyword only. Notice that this makes sense since the variable length parameter (typcially but not necessarily called `args`) will absorb all positional arguments beyond what's been specified before it."
   ]
  },
  {
   "cell_type": "markdown",
   "metadata": {},
   "source": [
    "### Variable-Length-Keyword Parameter:\n",
    "Our fourth catagory of function paramenter absorbs any excess *keyword arguments*. So just like the variable-length-postional parameter absorbs extra postional arguments into a `tuple`, this parameter will absorb extra keyword paramenters. Notice If we consider what kind datatype we should use to store an unknown quantity of keyword arguments, it shouldn't take us long to arrive at a `dictionary`. The keyword argument names will be the keys and their values will be the values. Observe:"
   ]
  },
  {
   "cell_type": "code",
   "execution_count": null,
   "metadata": {
    "collapsed": true
   },
   "outputs": [],
   "source": [
    "def g(a,b=0,*args,c=1,d=2, **kwargs):\n",
    "    print('a is: ',a)\n",
    "    print('b is: ',b)\n",
    "    print('args is: ',args)\n",
    "    print('c is: ',c)\n",
    "    print('d is: ',d)\n",
    "    print('kwargs is: ',kwargs)\n",
    "    return\n",
    "\n",
    "g(1,2,3,4,5,d=100, e=200, f=300)"
   ]
  },
  {
   "cell_type": "markdown",
   "metadata": {},
   "source": [
    "   __What just happened?__  We used the sequence `**` before the name `kwargs` to tell Python that the parameter `kwargs` is variable length keyword. It then absorbed any excess keyword arguments into the dictionary named `kwargs`. Note that there is nothing special about the names `args` or `kwargs`. We could have called these parameters anything. It's convention to call them `args` and `kwargs` though."
   ]
  },
  {
   "cell_type": "markdown",
   "metadata": {},
   "source": [
    "### Postional-Only Parameters:  \n",
    "You may have guessed that the fifth and final category of parameter is ***positional-only***. Until Python 3.8 we as programmers could not create functions with postional-only parameters. Certain built-in functions do have them (for example `float()` or `abs()`) but that was the extent of their appearance in Python. Now, although it's rare that we would want to, we can"
   ]
  },
  {
   "cell_type": "code",
   "execution_count": 3,
   "metadata": {},
   "outputs": [
    {
     "name": "stdout",
     "output_type": "stream",
     "text": [
      "1\n",
      "2\n",
      "0\n"
     ]
    },
    {
     "data": {
      "text/plain": [
       "1"
      ]
     },
     "execution_count": 3,
     "metadata": {},
     "output_type": "execute_result"
    }
   ],
   "source": [
    "def f(x,/,y,z=0):\n",
    "    # here x is positional only\n",
    "    # y is positional or keyword without a default value\n",
    "    # z is positional or keywward with default value 0\n",
    "    print(x)\n",
    "    print(y)\n",
    "    print(z)\n",
    "    return (x*y)**z\n",
    "\n",
    "f(1,2)"
   ]
  },
  {
   "cell_type": "code",
   "execution_count": 4,
   "metadata": {},
   "outputs": [
    {
     "name": "stdout",
     "output_type": "stream",
     "text": [
      "1\n",
      "2\n",
      "0\n"
     ]
    },
    {
     "data": {
      "text/plain": [
       "1"
      ]
     },
     "execution_count": 4,
     "metadata": {},
     "output_type": "execute_result"
    }
   ],
   "source": [
    "f(1,y=2)"
   ]
  },
  {
   "cell_type": "code",
   "execution_count": 5,
   "metadata": {},
   "outputs": [
    {
     "ename": "TypeError",
     "evalue": "f() got some positional-only arguments passed as keyword arguments: 'x'",
     "output_type": "error",
     "traceback": [
      "\u001b[0;31m---------------------------------------------------------------------------\u001b[0m",
      "\u001b[0;31mTypeError\u001b[0m                                 Traceback (most recent call last)",
      "\u001b[0;32m<ipython-input-5-138fe6ef98ec>\u001b[0m in \u001b[0;36m<module>\u001b[0;34m\u001b[0m\n\u001b[0;32m----> 1\u001b[0;31m \u001b[0mf\u001b[0m\u001b[0;34m(\u001b[0m\u001b[0mx\u001b[0m\u001b[0;34m=\u001b[0m\u001b[0;36m1\u001b[0m\u001b[0;34m,\u001b[0m\u001b[0my\u001b[0m\u001b[0;34m=\u001b[0m\u001b[0;36m2\u001b[0m\u001b[0;34m)\u001b[0m\u001b[0;34m\u001b[0m\u001b[0;34m\u001b[0m\u001b[0m\n\u001b[0m",
      "\u001b[0;31mTypeError\u001b[0m: f() got some positional-only arguments passed as keyword arguments: 'x'"
     ]
    }
   ],
   "source": [
    "f(x=1,y=2)"
   ]
  }
 ],
 "metadata": {
  "kernelspec": {
   "display_name": "Python 3",
   "language": "python",
   "name": "python3"
  },
  "language_info": {
   "codemirror_mode": {
    "name": "ipython",
    "version": 3
   },
   "file_extension": ".py",
   "mimetype": "text/x-python",
   "name": "python",
   "nbconvert_exporter": "python",
   "pygments_lexer": "ipython3",
   "version": "3.8.8"
  }
 },
 "nbformat": 4,
 "nbformat_minor": 1
}
